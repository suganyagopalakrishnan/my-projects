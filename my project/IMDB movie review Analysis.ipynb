{
 "cells": [
  {
   "cell_type": "code",
   "execution_count": 1,
   "id": "056c0112",
   "metadata": {},
   "outputs": [],
   "source": [
    "import pandas as pd\n",
    "import numpy as np\n",
    "import matplotlib.pyplot as plt"
   ]
  },
  {
   "cell_type": "code",
   "execution_count": 2,
   "id": "b062c828",
   "metadata": {},
   "outputs": [],
   "source": [
    "df = pd.read_csv(\"/Users/Suganya/Downloads/archive-3/Test.csv\")"
   ]
  },
  {
   "cell_type": "code",
   "execution_count": 3,
   "id": "8365b4ba",
   "metadata": {},
   "outputs": [
    {
     "data": {
      "text/html": [
       "<div>\n",
       "<style scoped>\n",
       "    .dataframe tbody tr th:only-of-type {\n",
       "        vertical-align: middle;\n",
       "    }\n",
       "\n",
       "    .dataframe tbody tr th {\n",
       "        vertical-align: top;\n",
       "    }\n",
       "\n",
       "    .dataframe thead th {\n",
       "        text-align: right;\n",
       "    }\n",
       "</style>\n",
       "<table border=\"1\" class=\"dataframe\">\n",
       "  <thead>\n",
       "    <tr style=\"text-align: right;\">\n",
       "      <th></th>\n",
       "      <th>text</th>\n",
       "      <th>label</th>\n",
       "    </tr>\n",
       "  </thead>\n",
       "  <tbody>\n",
       "    <tr>\n",
       "      <th>0</th>\n",
       "      <td>I always wrote this series off as being a comp...</td>\n",
       "      <td>0</td>\n",
       "    </tr>\n",
       "    <tr>\n",
       "      <th>1</th>\n",
       "      <td>1st watched 12/7/2002 - 3 out of 10(Dir-Steve ...</td>\n",
       "      <td>0</td>\n",
       "    </tr>\n",
       "    <tr>\n",
       "      <th>2</th>\n",
       "      <td>This movie was so poorly written and directed ...</td>\n",
       "      <td>0</td>\n",
       "    </tr>\n",
       "    <tr>\n",
       "      <th>3</th>\n",
       "      <td>The most interesting thing about Miryang (Secr...</td>\n",
       "      <td>1</td>\n",
       "    </tr>\n",
       "    <tr>\n",
       "      <th>4</th>\n",
       "      <td>when i first read about \"berlin am meer\" i did...</td>\n",
       "      <td>0</td>\n",
       "    </tr>\n",
       "  </tbody>\n",
       "</table>\n",
       "</div>"
      ],
      "text/plain": [
       "                                                text  label\n",
       "0  I always wrote this series off as being a comp...      0\n",
       "1  1st watched 12/7/2002 - 3 out of 10(Dir-Steve ...      0\n",
       "2  This movie was so poorly written and directed ...      0\n",
       "3  The most interesting thing about Miryang (Secr...      1\n",
       "4  when i first read about \"berlin am meer\" i did...      0"
      ]
     },
     "execution_count": 3,
     "metadata": {},
     "output_type": "execute_result"
    }
   ],
   "source": [
    "df.head()"
   ]
  },
  {
   "cell_type": "code",
   "execution_count": 4,
   "id": "8d4c52c7",
   "metadata": {},
   "outputs": [
    {
     "name": "stdout",
     "output_type": "stream",
     "text": [
      "Number of reviews: 5000\n"
     ]
    }
   ],
   "source": [
    "print(\"Number of reviews: {}\".format(len(df)))"
   ]
  },
  {
   "cell_type": "code",
   "execution_count": null,
   "id": "84ab6d99",
   "metadata": {},
   "outputs": [],
   "source": []
  },
  {
   "cell_type": "code",
   "execution_count": 5,
   "id": "1651b9ea",
   "metadata": {},
   "outputs": [],
   "source": [
    "import re"
   ]
  },
  {
   "cell_type": "code",
   "execution_count": 6,
   "id": "4628c239",
   "metadata": {},
   "outputs": [],
   "source": [
    "def replace_singlechar(review, default_replace=\" \"):\n",
    "  review = re.sub(r'\\s+[a-zA-Z]\\s+', default_replace, review)\n",
    "  return review"
   ]
  },
  {
   "cell_type": "code",
   "execution_count": 7,
   "id": "7fef1834",
   "metadata": {},
   "outputs": [],
   "source": [
    "def remove_space(review, default_replace=\" \"):\n",
    "  review = re.sub(r'\\s+', default_replace, review,flags=re.I)\n",
    "  return review"
   ]
  },
  {
   "cell_type": "code",
   "execution_count": 8,
   "id": "aa4e284a",
   "metadata": {},
   "outputs": [],
   "source": [
    "def to_lowercase(review):\n",
    "  review = review.lower()\n",
    "  return review"
   ]
  },
  {
   "cell_type": "code",
   "execution_count": 9,
   "id": "84f3d922",
   "metadata": {},
   "outputs": [],
   "source": [
    "import emoji"
   ]
  },
  {
   "cell_type": "code",
   "execution_count": 10,
   "id": "f331df85",
   "metadata": {},
   "outputs": [],
   "source": [
    "def demojize(review):\n",
    "  review = emoji.demojize(review)\n",
    "  return review"
   ]
  },
  {
   "cell_type": "code",
   "execution_count": 11,
   "id": "e3f4426c",
   "metadata": {},
   "outputs": [],
   "source": [
    "def word_repetition(review):\n",
    "  review = re.sub(r'(.)\\1+', r'\\1\\1', review)\n",
    "  return review"
   ]
  },
  {
   "cell_type": "code",
   "execution_count": 12,
   "id": "f59bd976",
   "metadata": {},
   "outputs": [],
   "source": [
    "def punct_repetition(review, default_replace=\"\"):\n",
    "  review = re.sub(r'[\\?\\.\\!]+(?=[\\?\\.\\!])', default_replace, review)\n",
    "  return review"
   ]
  },
  {
   "cell_type": "code",
   "execution_count": 13,
   "id": "2bfb7705",
   "metadata": {},
   "outputs": [],
   "source": [
    "import contractions"
   ]
  },
  {
   "cell_type": "code",
   "execution_count": 14,
   "id": "3159e4e6",
   "metadata": {},
   "outputs": [],
   "source": [
    "def fix_contractions(review):\n",
    "  review = contractions.fix(review)\n",
    "  return review"
   ]
  },
  {
   "cell_type": "code",
   "execution_count": 15,
   "id": "c86cd8b0",
   "metadata": {},
   "outputs": [
    {
     "name": "stderr",
     "output_type": "stream",
     "text": [
      "[nltk_data] Downloading package punkt to /Users/Suganya/nltk_data...\n",
      "[nltk_data]   Package punkt is already up-to-date!\n"
     ]
    },
    {
     "data": {
      "text/plain": [
       "True"
      ]
     },
     "execution_count": 15,
     "metadata": {},
     "output_type": "execute_result"
    }
   ],
   "source": [
    "import nltk\n",
    "from nltk.tokenize import word_tokenize\n",
    "nltk.download('punkt')"
   ]
  },
  {
   "cell_type": "code",
   "execution_count": 16,
   "id": "a0fe580c",
   "metadata": {},
   "outputs": [],
   "source": [
    "def tokenize(review):\n",
    "  tokens = word_tokenize(review)\n",
    "  return tokens"
   ]
  },
  {
   "cell_type": "code",
   "execution_count": 17,
   "id": "521ff6a2",
   "metadata": {},
   "outputs": [
    {
     "name": "stderr",
     "output_type": "stream",
     "text": [
      "[nltk_data] Downloading package stopwords to\n",
      "[nltk_data]     /Users/Suganya/nltk_data...\n",
      "[nltk_data]   Package stopwords is already up-to-date!\n"
     ]
    },
    {
     "data": {
      "text/plain": [
       "True"
      ]
     },
     "execution_count": 17,
     "metadata": {},
     "output_type": "execute_result"
    }
   ],
   "source": [
    "import string\n",
    "from nltk.corpus import stopwords\n",
    "nltk.download('stopwords')"
   ]
  },
  {
   "cell_type": "code",
   "execution_count": 18,
   "id": "dd695de7",
   "metadata": {},
   "outputs": [],
   "source": [
    "def custom_tokenize(review,\n",
    "                    keep_punct = False,\n",
    "                    keep_alnum = False,\n",
    "                    keep_stop = False):\n",
    "  \n",
    "  token_list = word_tokenize(review)\n",
    "\n",
    "  if not keep_punct:\n",
    "    token_list = [token for token in token_list\n",
    "                  if token not in string.punctuation]\n",
    "\n",
    "  if not keep_alnum:\n",
    "    token_list = [token for token in token_list if token.isalpha()]\n",
    "  \n",
    "  if not keep_stop:\n",
    "    stop_words = set(stopwords.words('english'))\n",
    "    stop_words.discard('not')\n",
    "    token_list = [token for token in token_list if not token in stop_words]\n",
    "\n",
    "  return token_list"
   ]
  },
  {
   "cell_type": "code",
   "execution_count": 19,
   "id": "75baa7b8",
   "metadata": {},
   "outputs": [],
   "source": [
    "from nltk.stem.snowball import SnowballStemmer"
   ]
  },
  {
   "cell_type": "code",
   "execution_count": 20,
   "id": "911a3a44",
   "metadata": {},
   "outputs": [],
   "source": [
    "def stem_tokens(tokens, stemmer):\n",
    "  token_list = []\n",
    "  for token in tokens:\n",
    "    token_list.append(stemmer.stem(token))\n",
    "  return token_list"
   ]
  },
  {
   "cell_type": "code",
   "execution_count": 90,
   "id": "1a2fcb1f",
   "metadata": {},
   "outputs": [],
   "source": [
    "def process_review(review, verbose=False):\n",
    "  if verbose: print(\"Initial tweet: {}\".format(review))\n",
    "\n",
    "  ## Twitter Features\n",
    "  review = replace_singlechar(review) # replace single char\n",
    "  review = remove_space(review) # remove multiple space with single space\n",
    "  if verbose: print(\"Post Twitter processing tweet: {}\".format(review))\n",
    "\n",
    "  ## Word Features\n",
    "  review = to_lowercase(review) # lower case\n",
    "  review = fix_contractions(review) # replace contractions\n",
    "  review = punct_repetition(review) # replace punctuation repetition\n",
    "  review = word_repetition(review) # replace word repetition\n",
    "  review = demojize(review) # replace emojis\n",
    "  if verbose: print(\"Post Word processing tweet: {}\".format(review))\n",
    "\n",
    "  ## Tokenization & Stemming\n",
    "  tokens = custom_tokenize(review, keep_alnum=False, keep_stop=False) # tokenize\n",
    "  stemmer = SnowballStemmer(\"english\") # define stemmer\n",
    "  stem = stem_tokens(tokens, stemmer) # stem tokens\n",
    "\n",
    "  return stem"
   ]
  },
  {
   "cell_type": "code",
   "execution_count": 91,
   "id": "8d22eba0",
   "metadata": {},
   "outputs": [],
   "source": [
    "df[\"tokens\"] = df[\"text\"].apply(process_review)"
   ]
  },
  {
   "cell_type": "code",
   "execution_count": 92,
   "id": "25fa07f7",
   "metadata": {},
   "outputs": [
    {
     "data": {
      "text/html": [
       "<div>\n",
       "<style scoped>\n",
       "    .dataframe tbody tr th:only-of-type {\n",
       "        vertical-align: middle;\n",
       "    }\n",
       "\n",
       "    .dataframe tbody tr th {\n",
       "        vertical-align: top;\n",
       "    }\n",
       "\n",
       "    .dataframe thead th {\n",
       "        text-align: right;\n",
       "    }\n",
       "</style>\n",
       "<table border=\"1\" class=\"dataframe\">\n",
       "  <thead>\n",
       "    <tr style=\"text-align: right;\">\n",
       "      <th></th>\n",
       "      <th>text</th>\n",
       "      <th>label</th>\n",
       "      <th>tokens</th>\n",
       "    </tr>\n",
       "  </thead>\n",
       "  <tbody>\n",
       "    <tr>\n",
       "      <th>0</th>\n",
       "      <td>I always wrote this series off as being a comp...</td>\n",
       "      <td>0</td>\n",
       "      <td>[alway, wrote, seri, complet, jim, belushi, in...</td>\n",
       "    </tr>\n",
       "    <tr>\n",
       "      <th>1</th>\n",
       "      <td>1st watched 12/7/2002 - 3 out of 10(Dir-Steve ...</td>\n",
       "      <td>0</td>\n",
       "      <td>[watch, purcel, typic, mari, kate, ashley, far...</td>\n",
       "    </tr>\n",
       "    <tr>\n",
       "      <th>2</th>\n",
       "      <td>This movie was so poorly written and directed ...</td>\n",
       "      <td>0</td>\n",
       "      <td>[movi, poor, written, direct, fell, asleep, mi...</td>\n",
       "    </tr>\n",
       "    <tr>\n",
       "      <th>3</th>\n",
       "      <td>The most interesting thing about Miryang (Secr...</td>\n",
       "      <td>1</td>\n",
       "      <td>[interest, thing, miryang, secret, sunshin, ac...</td>\n",
       "    </tr>\n",
       "    <tr>\n",
       "      <th>4</th>\n",
       "      <td>when i first read about \"berlin am meer\" i did...</td>\n",
       "      <td>0</td>\n",
       "      <td>[first, read, berlin, meer, not, expect, much,...</td>\n",
       "    </tr>\n",
       "  </tbody>\n",
       "</table>\n",
       "</div>"
      ],
      "text/plain": [
       "                                                text  label  \\\n",
       "0  I always wrote this series off as being a comp...      0   \n",
       "1  1st watched 12/7/2002 - 3 out of 10(Dir-Steve ...      0   \n",
       "2  This movie was so poorly written and directed ...      0   \n",
       "3  The most interesting thing about Miryang (Secr...      1   \n",
       "4  when i first read about \"berlin am meer\" i did...      0   \n",
       "\n",
       "                                              tokens  \n",
       "0  [alway, wrote, seri, complet, jim, belushi, in...  \n",
       "1  [watch, purcel, typic, mari, kate, ashley, far...  \n",
       "2  [movi, poor, written, direct, fell, asleep, mi...  \n",
       "3  [interest, thing, miryang, secret, sunshin, ac...  \n",
       "4  [first, read, berlin, meer, not, expect, much,...  "
      ]
     },
     "execution_count": 92,
     "metadata": {},
     "output_type": "execute_result"
    }
   ],
   "source": [
    "df.head()"
   ]
  },
  {
   "cell_type": "code",
   "execution_count": 93,
   "id": "0744a2b6",
   "metadata": {},
   "outputs": [],
   "source": [
    "X = df[\"tokens\"].tolist()\n",
    "y = df[\"label\"].tolist()"
   ]
  },
  {
   "cell_type": "code",
   "execution_count": 94,
   "id": "f056c738",
   "metadata": {},
   "outputs": [],
   "source": [
    "accuracy=[]"
   ]
  },
  {
   "cell_type": "raw",
   "id": "acc69e56",
   "metadata": {},
   "source": []
  },
  {
   "cell_type": "code",
   "execution_count": null,
   "id": "199e034a",
   "metadata": {},
   "outputs": [],
   "source": []
  },
  {
   "cell_type": "code",
   "execution_count": 95,
   "id": "34020021",
   "metadata": {},
   "outputs": [],
   "source": [
    "from sklearn.feature_extraction.text import TfidfVectorizer\n",
    "from sklearn.model_selection import train_test_split"
   ]
  },
  {
   "cell_type": "code",
   "execution_count": 96,
   "id": "f8126789",
   "metadata": {},
   "outputs": [],
   "source": [
    "X_train, X_test, y_train, y_test = train_test_split(X, y,\n",
    "                                                    random_state=0,\n",
    "                                                    train_size=0.80)"
   ]
  },
  {
   "cell_type": "code",
   "execution_count": 97,
   "id": "d26dd03f",
   "metadata": {},
   "outputs": [],
   "source": [
    "from sklearn.linear_model import LogisticRegression\n",
    "from sklearn.tree import DecisionTreeClassifier\n",
    "from sklearn.ensemble import RandomForestClassifier\n",
    "from sklearn.neighbors import KNeighborsClassifier"
   ]
  },
  {
   "cell_type": "code",
   "execution_count": 98,
   "id": "ce6dd682",
   "metadata": {},
   "outputs": [],
   "source": [
    "from sklearn.feature_extraction.text import TfidfVectorizer"
   ]
  },
  {
   "cell_type": "code",
   "execution_count": 99,
   "id": "a5596e8b",
   "metadata": {},
   "outputs": [],
   "source": [
    "def fit_tfidf(tweet_corpus):\n",
    "  tf_vect = TfidfVectorizer(preprocessor=lambda x: x,\n",
    "                            tokenizer=lambda x: x)\n",
    "  tf_vect.fit(tweet_corpus)\n",
    "  return tf_vect"
   ]
  },
  {
   "cell_type": "code",
   "execution_count": 100,
   "id": "304eed27",
   "metadata": {},
   "outputs": [],
   "source": [
    "def fit_lr(X_train, y_train):\n",
    "  model = LogisticRegression()\n",
    "  model.fit(X_train, y_train)\n",
    "  return model"
   ]
  },
  {
   "cell_type": "code",
   "execution_count": 101,
   "id": "629475aa",
   "metadata": {},
   "outputs": [
    {
     "name": "stderr",
     "output_type": "stream",
     "text": [
      "/opt/anaconda3/envs/sugi/lib/python3.7/site-packages/sklearn/feature_extraction/text.py:517: UserWarning: The parameter 'token_pattern' will not be used since 'tokenizer' is not None'\n",
      "  \"The parameter 'token_pattern' will not be used\"\n"
     ]
    }
   ],
   "source": [
    "tf = fit_tfidf(X_train)\n",
    "X_train_tf = tf.transform(X_train)\n",
    "X_test_tf = tf.transform(X_test)"
   ]
  },
  {
   "cell_type": "code",
   "execution_count": 102,
   "id": "7b4a1246",
   "metadata": {},
   "outputs": [],
   "source": [
    "model_lr_tf = fit_lr(X_train_tf, y_train)"
   ]
  },
  {
   "cell_type": "code",
   "execution_count": 103,
   "id": "9bd63f33",
   "metadata": {},
   "outputs": [],
   "source": [
    "y_pred_lr_tf = model_lr_tf.predict(X_test_tf)"
   ]
  },
  {
   "cell_type": "code",
   "execution_count": null,
   "id": "ba705bc8",
   "metadata": {},
   "outputs": [],
   "source": []
  },
  {
   "cell_type": "code",
   "execution_count": 104,
   "id": "deba5b45",
   "metadata": {},
   "outputs": [],
   "source": [
    "from sklearn.metrics import accuracy_score\n",
    "from sklearn.metrics import confusion_matrix"
   ]
  },
  {
   "cell_type": "code",
   "execution_count": 105,
   "id": "6035db69",
   "metadata": {},
   "outputs": [
    {
     "name": "stdout",
     "output_type": "stream",
     "text": [
      "LR Model Accuracy: 84.80%\n"
     ]
    }
   ],
   "source": [
    "print(\"LR Model Accuracy: {:.2%}\".format(accuracy_score(y_test, y_pred_lr_tf)))\n",
    "LR_acc=accuracy_score(y_test, y_pred_lr_tf.round())"
   ]
  },
  {
   "cell_type": "code",
   "execution_count": null,
   "id": "a2863870",
   "metadata": {},
   "outputs": [],
   "source": []
  },
  {
   "cell_type": "code",
   "execution_count": 106,
   "id": "7c80e2ce",
   "metadata": {},
   "outputs": [],
   "source": [
    "accuracy.append(LR_acc*100)"
   ]
  },
  {
   "cell_type": "code",
   "execution_count": 107,
   "id": "5b1fe9f0",
   "metadata": {},
   "outputs": [],
   "source": [
    "def fit_RF(X_train, y_train):\n",
    "  model = RandomForestClassifier()\n",
    "  model.fit(X_train, y_train)\n",
    "  return model"
   ]
  },
  {
   "cell_type": "code",
   "execution_count": 108,
   "id": "7146018b",
   "metadata": {},
   "outputs": [],
   "source": [
    "model_RF_tf = fit_RF(X_train_tf, y_train)"
   ]
  },
  {
   "cell_type": "code",
   "execution_count": 109,
   "id": "71f69b75",
   "metadata": {},
   "outputs": [],
   "source": [
    "y_pred_RF_tf = model_RF_tf.predict(X_test_tf)"
   ]
  },
  {
   "cell_type": "code",
   "execution_count": 110,
   "id": "7d8f5d70",
   "metadata": {},
   "outputs": [
    {
     "name": "stdout",
     "output_type": "stream",
     "text": [
      "LR Model Accuracy: 81.40%\n"
     ]
    }
   ],
   "source": [
    "print(\"LR Model Accuracy: {:.2%}\".format(accuracy_score(y_test, y_pred_RF_tf)))"
   ]
  },
  {
   "cell_type": "code",
   "execution_count": 111,
   "id": "26a20e79",
   "metadata": {},
   "outputs": [],
   "source": [
    "RF_acc=accuracy_score(y_test, y_pred_RF_tf.round())\n",
    "accuracy.append(RF_acc*100)"
   ]
  },
  {
   "cell_type": "code",
   "execution_count": 112,
   "id": "555133b1",
   "metadata": {},
   "outputs": [],
   "source": [
    "def fit_DT(X_train, y_train):\n",
    "  model = DecisionTreeClassifier()\n",
    "  model.fit(X_train, y_train)\n",
    "  return model"
   ]
  },
  {
   "cell_type": "code",
   "execution_count": null,
   "id": "dcebacf1",
   "metadata": {},
   "outputs": [],
   "source": []
  },
  {
   "cell_type": "code",
   "execution_count": 113,
   "id": "d58b1c39",
   "metadata": {},
   "outputs": [],
   "source": [
    "model_DT_tf = fit_DT(X_train_tf, y_train)"
   ]
  },
  {
   "cell_type": "code",
   "execution_count": 114,
   "id": "7f6c70a0",
   "metadata": {},
   "outputs": [],
   "source": [
    "y_pred_DT_tf = model_DT_tf.predict(X_test_tf)"
   ]
  },
  {
   "cell_type": "code",
   "execution_count": 115,
   "id": "9be3b4e4",
   "metadata": {},
   "outputs": [
    {
     "name": "stdout",
     "output_type": "stream",
     "text": [
      "LR Model Accuracy: 67.50%\n"
     ]
    }
   ],
   "source": [
    "print(\"LR Model Accuracy: {:.2%}\".format(accuracy_score(y_test, y_pred_DT_tf)))"
   ]
  },
  {
   "cell_type": "code",
   "execution_count": 116,
   "id": "201c26a2",
   "metadata": {},
   "outputs": [],
   "source": [
    "DT_acc=accuracy_score(y_test, y_pred_DT_tf.round())\n",
    "accuracy.append(DT_acc*100)"
   ]
  },
  {
   "cell_type": "code",
   "execution_count": null,
   "id": "293e7761",
   "metadata": {},
   "outputs": [],
   "source": []
  },
  {
   "cell_type": "code",
   "execution_count": null,
   "id": "d1b01987",
   "metadata": {},
   "outputs": [],
   "source": []
  },
  {
   "cell_type": "code",
   "execution_count": 117,
   "id": "e2dbc158",
   "metadata": {},
   "outputs": [],
   "source": [
    "your_review = \"\"\"the movie have good vibe. deliverse wonderful message\"\"\""
   ]
  },
  {
   "cell_type": "code",
   "execution_count": 118,
   "id": "3e1c23a8",
   "metadata": {},
   "outputs": [],
   "source": [
    "def predict_review(review):\n",
    "  processed_review = process_review(review)\n",
    "  transformed_review = tf.transform([processed_review])\n",
    "  prediction = model_lr_tf.predict(transformed_review)\n",
    "\n",
    "  if prediction == 1:\n",
    "    return \"Prediction is positive sentiment\"\n",
    "  else:\n",
    "    return \"Prediction is negative sentiment\""
   ]
  },
  {
   "cell_type": "code",
   "execution_count": 119,
   "id": "d9de78e4",
   "metadata": {},
   "outputs": [
    {
     "data": {
      "text/plain": [
       "'Prediction is positive sentiment'"
      ]
     },
     "execution_count": 119,
     "metadata": {},
     "output_type": "execute_result"
    }
   ],
   "source": [
    "predict_review(your_review)"
   ]
  },
  {
   "cell_type": "code",
   "execution_count": 120,
   "id": "4f3578a5",
   "metadata": {},
   "outputs": [
    {
     "data": {
      "text/plain": [
       "[84.8, 81.39999999999999, 67.5]"
      ]
     },
     "execution_count": 120,
     "metadata": {},
     "output_type": "execute_result"
    }
   ],
   "source": [
    "accuracy"
   ]
  },
  {
   "cell_type": "code",
   "execution_count": null,
   "id": "8bea919f",
   "metadata": {},
   "outputs": [],
   "source": []
  },
  {
   "cell_type": "code",
   "execution_count": 121,
   "id": "2e04bbf4",
   "metadata": {},
   "outputs": [],
   "source": [
    "Algorithm=['LR','RF','DT']"
   ]
  },
  {
   "cell_type": "code",
   "execution_count": 123,
   "id": "c6e94340",
   "metadata": {},
   "outputs": [
    {
     "data": {
      "image/png": "[encoded data removed]",
      "text/plain": [
       "<Figure size 432x288 with 1 Axes>"
      ]
     },
     "metadata": {
      "needs_background": "light"
     },
     "output_type": "display_data"
    }
   ],
   "source": [
    "plt.bar(Algorithm, accuracy)\n",
    "plt.title('Accuracy')\n",
    "plt.xlabel('Algorithm')\n",
    "plt.ylabel('accuracy')\n",
    "plt.show()"
   ]
  },
  {
   "cell_type": "code",
   "execution_count": null,
   "id": "be846dda",
   "metadata": {},
   "outputs": [],
   "source": []
  },
  {
   "cell_type": "code",
   "execution_count": null,
   "id": "8121eba8",
   "metadata": {},
   "outputs": [],
   "source": []
  },
  {
   "cell_type": "code",
   "execution_count": null,
   "id": "9e9eb5cb",
   "metadata": {},
   "outputs": [],
   "source": []
  }
 ],
 "metadata": {
  "kernelspec": {
   "display_name": "Python 3 (ipykernel)",
   "language": "python",
   "name": "python3"
  },
  "language_info": {
   "codemirror_mode": {
    "name": "ipython",
    "version": 3
   },
   "file_extension": ".py",
   "mimetype": "text/x-python",
   "name": "python",
   "nbconvert_exporter": "python",
   "pygments_lexer": "ipython3",
   "version": "3.7.11"
  }
 },
 "nbformat": 4,
 "nbformat_minor": 5
}
