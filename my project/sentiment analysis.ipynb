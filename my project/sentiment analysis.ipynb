{
 "cells": [
  {
   "cell_type": "code",
   "execution_count": 1,
   "metadata": {
    "colab": {
     "base_uri": "https://localhost:8080/"
    },
    "executionInfo": {
     "elapsed": 37714,
     "status": "ok",
     "timestamp": 1623227558959,
     "user": {
      "displayName": "Abdul Ahad",
      "photoUrl": "",
      "userId": "00626872405295301930"
     },
     "user_tz": -330
    },
    "id": "tpXeosQWTjr5",
    "outputId": "de051fd2-7037-40ec-fb4d-64bc4e4582df"
   },
   "outputs": [
    {
     "ename": "ModuleNotFoundError",
     "evalue": "No module named 'google.colab'",
     "output_type": "error",
     "traceback": [
      "\u001b[0;31m---------------------------------------------------------------------------\u001b[0m",
      "\u001b[0;31mModuleNotFoundError\u001b[0m                       Traceback (most recent call last)",
      "\u001b[0;32m/var/folders/f7/np6kmhc96l7737m5qxqh4j580000gn/T/ipykernel_30004/3067236620.py\u001b[0m in \u001b[0;36m<module>\u001b[0;34m\u001b[0m\n\u001b[1;32m      1\u001b[0m \u001b[0;32mimport\u001b[0m \u001b[0mos\u001b[0m\u001b[0;34m\u001b[0m\u001b[0;34m\u001b[0m\u001b[0m\n\u001b[0;32m----> 2\u001b[0;31m \u001b[0;32mfrom\u001b[0m \u001b[0mgoogle\u001b[0m\u001b[0;34m.\u001b[0m\u001b[0mcolab\u001b[0m \u001b[0;32mimport\u001b[0m \u001b[0mdrive\u001b[0m\u001b[0;34m\u001b[0m\u001b[0;34m\u001b[0m\u001b[0m\n\u001b[0m\u001b[1;32m      3\u001b[0m \u001b[0mdrive\u001b[0m\u001b[0;34m.\u001b[0m\u001b[0mmount\u001b[0m\u001b[0;34m(\u001b[0m\u001b[0;34m'/content/drive'\u001b[0m\u001b[0;34m)\u001b[0m\u001b[0;34m\u001b[0m\u001b[0;34m\u001b[0m\u001b[0m\n\u001b[1;32m      4\u001b[0m \u001b[0;34m\u001b[0m\u001b[0m\n",
      "\u001b[0;31mModuleNotFoundError\u001b[0m: No module named 'google.colab'"
     ]
    }
   ],
   "source": [
    "import os\n",
    "from google.colab import drive\n",
    "drive.mount('/content/drive')\n",
    "\n"
   ]
  },
  {
   "cell_type": "code",
   "execution_count": null,
   "metadata": {
    "id": "Zup5OR-PUOCY"
   },
   "outputs": [],
   "source": [
    "\n",
    "os.chdir('/content/drive/My Drive/TechVidvan/Sentiment')\n",
    "!ls"
   ]
  },
  {
   "cell_type": "code",
   "execution_count": null,
   "metadata": {
    "id": "FbrsQDCtUuwU"
   },
   "outputs": [],
   "source": [
    "import random\n",
    "import torch\n",
    "from torchtext.legacy import data\n",
    "from torchtext.legacy import datasets\n",
    "\n",
    "seed = 42\n",
    "\n",
    "torch.manual_seed(seed)\n",
    "torch.backends.cudnn.deterministic = True\n",
    "device = torch.device('cuda' if torch.cuda.is_available() else 'cpu')\n",
    "\n",
    "txt = data.Field(tokenize = 'spacy',\n",
    "                  tokenizer_language = 'en_core_web_sm',\n",
    "                  include_lengths = True)\n",
    "\n",
    "labels = data.LabelField(dtype = torch.float)"
   ]
  },
  {
   "cell_type": "code",
   "execution_count": null,
   "metadata": {
    "colab": {
     "background_save": true,
     "base_uri": "https://localhost:8080/"
    },
    "id": "BxcraaCdUu0W",
    "outputId": "2601194b-8425-4874-b24c-622b51a6c0d1"
   },
   "outputs": [
    {
     "name": "stderr",
     "output_type": "stream",
     "text": [
      "\r",
      "aclImdb_v1.tar.gz:   0%|          | 0.00/84.1M [00:00<?, ?B/s]"
     ]
    },
    {
     "name": "stdout",
     "output_type": "stream",
     "text": [
      "downloading aclImdb_v1.tar.gz\n"
     ]
    },
    {
     "name": "stderr",
     "output_type": "stream",
     "text": [
      "aclImdb_v1.tar.gz: 100%|██████████| 84.1M/84.1M [00:03<00:00, 26.6MB/s]\n"
     ]
    }
   ],
   "source": [
    "train_data, test_data = datasets.IMDB.splits(txt, labels)"
   ]
  },
  {
   "cell_type": "code",
   "execution_count": 10,
   "metadata": {
    "executionInfo": {
     "elapsed": 18,
     "status": "ok",
     "timestamp": 1623232945973,
     "user": {
      "displayName": "Abdul Ahad",
      "photoUrl": "",
      "userId": "00626872405295301930"
     },
     "user_tz": -330
    },
    "id": "ilJfvG4tUu2S"
   },
   "outputs": [],
   "source": [
    "train_data, valid_data = train_data.split(random_state = random.seed(seed))"
   ]
  },
  {
   "cell_type": "code",
   "execution_count": 11,
   "metadata": {
    "colab": {
     "base_uri": "https://localhost:8080/"
    },
    "executionInfo": {
     "elapsed": 216447,
     "status": "ok",
     "timestamp": 1623233162416,
     "user": {
      "displayName": "Abdul Ahad",
      "photoUrl": "",
      "userId": "00626872405295301930"
     },
     "user_tz": -330
    },
    "id": "NWJxtI6IUu4r",
    "outputId": "077d60e1-cc68-45c6-fca3-7d36880f89b4"
   },
   "outputs": [
    {
     "name": "stderr",
     "output_type": "stream",
     "text": [
      ".vector_cache/glove.6B.zip: 862MB [02:42, 5.31MB/s]                           \n",
      "100%|█████████▉| 398630/400000 [00:15<00:00, 25442.01it/s]"
     ]
    }
   ],
   "source": [
    "num_words = 25_000\n",
    "\n",
    "txt.build_vocab(train_data, \n",
    "                 max_size = num_words, \n",
    "                 vectors = \"glove.6B.100d\", \n",
    "                 unk_init = torch.Tensor.normal_)\n",
    "\n",
    "labels.build_vocab(train_data)"
   ]
  },
  {
   "cell_type": "code",
   "execution_count": 12,
   "metadata": {
    "executionInfo": {
     "elapsed": 25,
     "status": "ok",
     "timestamp": 1623233162416,
     "user": {
      "displayName": "Abdul Ahad",
      "photoUrl": "",
      "userId": "00626872405295301930"
     },
     "user_tz": -330
    },
    "id": "8GBxa-nhUu7z"
   },
   "outputs": [],
   "source": [
    "btch_size = 64\n",
    "\n",
    "train_itr, valid_itr, test_itr = data.BucketIterator.splits(\n",
    "    (train_data, valid_data, test_data), \n",
    "    batch_size = btch_size,\n",
    "    sort_within_batch = True,\n",
    "    device = device)"
   ]
  },
  {
   "cell_type": "code",
   "execution_count": 13,
   "metadata": {
    "executionInfo": {
     "elapsed": 21,
     "status": "ok",
     "timestamp": 1623233162417,
     "user": {
      "displayName": "Abdul Ahad",
      "photoUrl": "",
      "userId": "00626872405295301930"
     },
     "user_tz": -330
    },
    "id": "2FW6VELrUu9w"
   },
   "outputs": [],
   "source": [
    "import torch.nn as nn\n",
    "\n",
    "class RNN(nn.Module):\n",
    "    def __init__(self, word_limit, dimension_embedding, dimension_hidden, dimension_output, num_layers, \n",
    "                 bidirectional, dropout, pad_idx):\n",
    "        \n",
    "        super().__init__()\n",
    "        \n",
    "        self.embedding = nn.Embedding(word_limit, dimension_embedding, padding_idx = pad_idx)\n",
    "        \n",
    "        self.rnn = nn.LSTM(dimension_embedding, \n",
    "                           dimension_hidden, \n",
    "                           num_layers=num_layers, \n",
    "                           bidirectional=bidirectional, \n",
    "                           dropout=dropout)\n",
    "        \n",
    "        self.fc = nn.Linear(dimension_hidden * 2, dimension_output)\n",
    "        \n",
    "        self.dropout = nn.Dropout(dropout)\n",
    "        \n",
    "    def forward(self, text, len_txt):\n",
    "        \n",
    "        \n",
    "        embedded = self.dropout(self.embedding(text))\n",
    "               \n",
    "\n",
    "        packed_embedded = nn.utils.rnn.pack_padded_sequence(embedded, len_txt.to('cpu'))\n",
    "        \n",
    "        packed_output, (hidden, cell) = self.rnn(packed_embedded)\n",
    "        \n",
    "        output, output_lengths = nn.utils.rnn.pad_packed_sequence(packed_output)\n",
    "\n",
    "        \n",
    "        hidden = self.dropout(torch.cat((hidden[-2,:,:], hidden[-1,:,:]), dim = 1))\n",
    "                            \n",
    "        return self.fc(hidden)\n",
    "        "
   ]
  },
  {
   "cell_type": "code",
   "execution_count": 14,
   "metadata": {
    "executionInfo": {
     "elapsed": 21,
     "status": "ok",
     "timestamp": 1623233162417,
     "user": {
      "displayName": "Abdul Ahad",
      "photoUrl": "",
      "userId": "00626872405295301930"
     },
     "user_tz": -330
    },
    "id": "0cfpV4fUUvAm"
   },
   "outputs": [],
   "source": [
    "dimension_input = len(txt.vocab)\n",
    "dimension_embedding = 100\n",
    "dimension_hddn = 256\n",
    "dimension_out = 1\n",
    "layers = 2\n",
    "bidirectional = True\n",
    "droupout = 0.5\n",
    "idx_pad = txt.vocab.stoi[txt.pad_token]\n",
    "\n",
    "model = RNN(dimension_input, \n",
    "            dimension_embedding, \n",
    "            dimension_hddn, \n",
    "            dimension_out, \n",
    "            layers, \n",
    "            bidirectional, \n",
    "            droupout, \n",
    "            idx_pad)"
   ]
  },
  {
   "cell_type": "code",
   "execution_count": 15,
   "metadata": {
    "colab": {
     "base_uri": "https://localhost:8080/"
    },
    "executionInfo": {
     "elapsed": 21,
     "status": "ok",
     "timestamp": 1623233162418,
     "user": {
      "displayName": "Abdul Ahad",
      "photoUrl": "",
      "userId": "00626872405295301930"
     },
     "user_tz": -330
    },
    "id": "_jPpTvChUvCo",
    "outputId": "3585f512-d46d-47df-fb3f-96edadaa0b77"
   },
   "outputs": [
    {
     "name": "stdout",
     "output_type": "stream",
     "text": [
      "The model has 4,810,857 trainable parameters\n"
     ]
    }
   ],
   "source": [
    "def count_parameters(model):\n",
    "    return sum(p.numel() for p in model.parameters() if p.requires_grad)\n",
    "\n",
    "print(f'The model has {count_parameters(model):,} trainable parameters')"
   ]
  },
  {
   "cell_type": "code",
   "execution_count": 16,
   "metadata": {
    "colab": {
     "base_uri": "https://localhost:8080/"
    },
    "executionInfo": {
     "elapsed": 19,
     "status": "ok",
     "timestamp": 1623233162419,
     "user": {
      "displayName": "Abdul Ahad",
      "photoUrl": "",
      "userId": "00626872405295301930"
     },
     "user_tz": -330
    },
    "id": "2TonARjWUvEz",
    "outputId": "960a4acf-69da-4de3-8842-93c44384b57e"
   },
   "outputs": [
    {
     "name": "stdout",
     "output_type": "stream",
     "text": [
      "torch.Size([25002, 100])\n"
     ]
    }
   ],
   "source": [
    "pretrained_embeddings = txt.vocab.vectors\n",
    "\n",
    "print(pretrained_embeddings.shape)"
   ]
  },
  {
   "cell_type": "code",
   "execution_count": 17,
   "metadata": {
    "colab": {
     "base_uri": "https://localhost:8080/"
    },
    "executionInfo": {
     "elapsed": 15,
     "status": "ok",
     "timestamp": 1623233162419,
     "user": {
      "displayName": "Abdul Ahad",
      "photoUrl": "",
      "userId": "00626872405295301930"
     },
     "user_tz": -330
    },
    "id": "pR3JOGeLUvHC",
    "outputId": "bc291df9-391d-45a8-ac56-f9f8ae979ad3"
   },
   "outputs": [
    {
     "data": {
      "text/plain": [
       "tensor([[ 1.9269,  1.4873,  0.9007,  ...,  0.1233,  0.3499,  0.6173],\n",
       "        [ 0.7262,  0.0912, -0.3891,  ...,  0.0821,  0.4440, -0.7240],\n",
       "        [-0.0382, -0.2449,  0.7281,  ..., -0.1459,  0.8278,  0.2706],\n",
       "        ...,\n",
       "        [-0.0650,  0.0029,  0.6209,  ..., -0.2100, -0.6873,  0.6438],\n",
       "        [ 0.0766, -0.0666,  0.2242,  ..., -0.1401, -0.4067,  0.6296],\n",
       "        [ 0.2527,  0.1215,  0.2966,  ..., -0.0253, -0.6011,  0.8194]])"
      ]
     },
     "execution_count": 17,
     "metadata": {
      "tags": []
     },
     "output_type": "execute_result"
    }
   ],
   "source": [
    "model.embedding.weight.data.copy_(pretrained_embeddings)\n"
   ]
  },
  {
   "cell_type": "code",
   "execution_count": 18,
   "metadata": {
    "colab": {
     "base_uri": "https://localhost:8080/"
    },
    "executionInfo": {
     "elapsed": 12,
     "status": "ok",
     "timestamp": 1623233162420,
     "user": {
      "displayName": "Abdul Ahad",
      "photoUrl": "",
      "userId": "00626872405295301930"
     },
     "user_tz": -330
    },
    "id": "mf7NFXmPUvKQ",
    "outputId": "881f0d71-c61f-43ed-8efa-ab7b397c4c0f"
   },
   "outputs": [
    {
     "name": "stdout",
     "output_type": "stream",
     "text": [
      "tensor([[ 0.0000,  0.0000,  0.0000,  ...,  0.0000,  0.0000,  0.0000],\n",
      "        [ 0.0000,  0.0000,  0.0000,  ...,  0.0000,  0.0000,  0.0000],\n",
      "        [-0.0382, -0.2449,  0.7281,  ..., -0.1459,  0.8278,  0.2706],\n",
      "        ...,\n",
      "        [-0.0650,  0.0029,  0.6209,  ..., -0.2100, -0.6873,  0.6438],\n",
      "        [ 0.0766, -0.0666,  0.2242,  ..., -0.1401, -0.4067,  0.6296],\n",
      "        [ 0.2527,  0.1215,  0.2966,  ..., -0.0253, -0.6011,  0.8194]])\n"
     ]
    }
   ],
   "source": [
    "unique_id = txt.vocab.stoi[txt.unk_token]\n",
    "\n",
    "model.embedding.weight.data[unique_id] = torch.zeros(dimension_embedding)\n",
    "model.embedding.weight.data[idx_pad] = torch.zeros(dimension_embedding)\n",
    "\n",
    "print(model.embedding.weight.data)"
   ]
  },
  {
   "cell_type": "code",
   "execution_count": 19,
   "metadata": {
    "executionInfo": {
     "elapsed": 9,
     "status": "ok",
     "timestamp": 1623233162420,
     "user": {
      "displayName": "Abdul Ahad",
      "photoUrl": "",
      "userId": "00626872405295301930"
     },
     "user_tz": -330
    },
    "id": "YjNuTfx6UvMA"
   },
   "outputs": [],
   "source": [
    "import torch.optim as optim\n",
    "\n",
    "optimizer = optim.Adam(model.parameters())"
   ]
  },
  {
   "cell_type": "code",
   "execution_count": 20,
   "metadata": {
    "executionInfo": {
     "elapsed": 9523,
     "status": "ok",
     "timestamp": 1623233171935,
     "user": {
      "displayName": "Abdul Ahad",
      "photoUrl": "",
      "userId": "00626872405295301930"
     },
     "user_tz": -330
    },
    "id": "1UUb9NFyfuFC"
   },
   "outputs": [],
   "source": [
    "criterion = nn.BCEWithLogitsLoss()\n",
    "\n",
    "model = model.to(device)\n",
    "criterion = criterion.to(device)"
   ]
  },
  {
   "cell_type": "code",
   "execution_count": 21,
   "metadata": {
    "executionInfo": {
     "elapsed": 16,
     "status": "ok",
     "timestamp": 1623233171936,
     "user": {
      "displayName": "Abdul Ahad",
      "photoUrl": "",
      "userId": "00626872405295301930"
     },
     "user_tz": -330
    },
    "id": "hXGoFUYwfuHK"
   },
   "outputs": [],
   "source": [
    "def bin_acc(preds, y):\n",
    "   \n",
    "    predictions = torch.round(torch.sigmoid(preds))\n",
    "    correct = (predictions == y).float() \n",
    "    acc = correct.sum() / len(correct)\n",
    "    return acc"
   ]
  },
  {
   "cell_type": "code",
   "execution_count": 22,
   "metadata": {
    "executionInfo": {
     "elapsed": 15,
     "status": "ok",
     "timestamp": 1623233171936,
     "user": {
      "displayName": "Abdul Ahad",
      "photoUrl": "",
      "userId": "00626872405295301930"
     },
     "user_tz": -330
    },
    "id": "8CRdK5PNfuLK"
   },
   "outputs": [],
   "source": [
    "def train(model, itr, optimizer, criterion):\n",
    "    \n",
    "    epoch_loss = 0\n",
    "    epoch_acc = 0\n",
    "    \n",
    "    model.train()\n",
    "    \n",
    "    for i in itr:\n",
    "        \n",
    "        optimizer.zero_grad()\n",
    "        \n",
    "        text, len_txt = i.text\n",
    "        \n",
    "        predictions = model(text, len_txt).squeeze(1)\n",
    "        \n",
    "        loss = criterion(predictions, i.label)\n",
    "        \n",
    "        acc = bin_acc(predictions, i.label)\n",
    "        \n",
    "        loss.backward()\n",
    "        \n",
    "        optimizer.step()\n",
    "        \n",
    "        epoch_loss += loss.item()\n",
    "        epoch_acc += acc.item()\n",
    "        \n",
    "    return epoch_loss / len(itr), epoch_acc / len(itr)"
   ]
  },
  {
   "cell_type": "code",
   "execution_count": 23,
   "metadata": {
    "executionInfo": {
     "elapsed": 14,
     "status": "ok",
     "timestamp": 1623233171936,
     "user": {
      "displayName": "Abdul Ahad",
      "photoUrl": "",
      "userId": "00626872405295301930"
     },
     "user_tz": -330
    },
    "id": "2REmYimCUvN_"
   },
   "outputs": [],
   "source": [
    "def evaluate(model, itr, criterion):\n",
    "    \n",
    "    epoch_loss = 0\n",
    "    epoch_acc = 0\n",
    "    \n",
    "    model.eval()\n",
    "    \n",
    "    with torch.no_grad():\n",
    "    \n",
    "        for i in itr:\n",
    "\n",
    "            text, len_txt = i.text\n",
    "            \n",
    "            predictions = model(text, len_txt).squeeze(1)\n",
    "            \n",
    "            loss = criterion(predictions, i.label)\n",
    "            \n",
    "            acc = bin_acc(predictions, i.label)\n",
    "\n",
    "            epoch_loss += loss.item()\n",
    "            epoch_acc += acc.item()\n",
    "        \n",
    "    return epoch_loss / len(itr), epoch_acc / len(itr)"
   ]
  },
  {
   "cell_type": "code",
   "execution_count": 24,
   "metadata": {
    "executionInfo": {
     "elapsed": 15,
     "status": "ok",
     "timestamp": 1623233171937,
     "user": {
      "displayName": "Abdul Ahad",
      "photoUrl": "",
      "userId": "00626872405295301930"
     },
     "user_tz": -330
    },
    "id": "r0B_0briUvP_"
   },
   "outputs": [],
   "source": [
    "import time\n",
    "\n",
    "def epoch_time(start_time, end_time):\n",
    "    used_time = end_time - start_time\n",
    "    used_mins = int(used_time / 60)\n",
    "    used_secs = int(used_time - (used_mins * 60))\n",
    "    return used_mins, used_secs"
   ]
  },
  {
   "cell_type": "code",
   "execution_count": 25,
   "metadata": {
    "colab": {
     "base_uri": "https://localhost:8080/"
    },
    "executionInfo": {
     "elapsed": 198509,
     "status": "ok",
     "timestamp": 1623233370432,
     "user": {
      "displayName": "Abdul Ahad",
      "photoUrl": "",
      "userId": "00626872405295301930"
     },
     "user_tz": -330
    },
    "id": "L2zpx4bBUvSv",
    "outputId": "42135121-4e3b-4ec6-c516-c5ce022858d8"
   },
   "outputs": [
    {
     "name": "stderr",
     "output_type": "stream",
     "text": [
      "\r",
      "100%|█████████▉| 398630/400000 [00:30<00:00, 25442.01it/s]"
     ]
    },
    {
     "name": "stdout",
     "output_type": "stream",
     "text": [
      "Epoch: 01 | Epoch Time: 0m 37s\n",
      "\tTrain Loss: 0.658 | Train Acc: 60.15%\n",
      "\t Val. Loss: 0.675 |  Val. Acc: 60.89%\n",
      "Epoch: 02 | Epoch Time: 0m 38s\n",
      "\tTrain Loss: 0.653 | Train Acc: 60.98%\n",
      "\t Val. Loss: 0.606 |  Val. Acc: 68.85%\n",
      "Epoch: 03 | Epoch Time: 0m 40s\n",
      "\tTrain Loss: 0.490 | Train Acc: 77.06%\n",
      "\t Val. Loss: 0.450 |  Val. Acc: 80.64%\n",
      "Epoch: 04 | Epoch Time: 0m 40s\n",
      "\tTrain Loss: 0.390 | Train Acc: 83.21%\n",
      "\t Val. Loss: 0.329 |  Val. Acc: 86.56%\n",
      "Epoch: 05 | Epoch Time: 0m 40s\n",
      "\tTrain Loss: 0.321 | Train Acc: 86.95%\n",
      "\t Val. Loss: 0.432 |  Val. Acc: 81.71%\n"
     ]
    }
   ],
   "source": [
    "num_epochs = 5\n",
    "\n",
    "best_valid_loss = float('inf')\n",
    "\n",
    "for epoch in range(num_epochs):\n",
    "\n",
    "    start_time = time.time()\n",
    "    \n",
    "    train_loss, train_acc = train(model, train_itr, optimizer, criterion)\n",
    "    valid_loss, valid_acc = evaluate(model, valid_itr, criterion)\n",
    "    \n",
    "    end_time = time.time()\n",
    "\n",
    "    epoch_mins, epoch_secs = epoch_time(start_time, end_time)\n",
    "    \n",
    "    if valid_loss < best_valid_loss:\n",
    "        best_valid_loss = valid_loss\n",
    "        torch.save(model.state_dict(), 'tut2-model.pt')\n",
    "    \n",
    "    print(f'Epoch: {epoch+1:02} | Epoch Time: {epoch_mins}m {epoch_secs}s')\n",
    "    print(f'\\tTrain Loss: {train_loss:.3f} | Train Acc: {train_acc*100:.2f}%')\n",
    "    print(f'\\t Val. Loss: {valid_loss:.3f} |  Val. Acc: {valid_acc*100:.2f}%')"
   ]
  },
  {
   "cell_type": "code",
   "execution_count": 26,
   "metadata": {
    "colab": {
     "base_uri": "https://localhost:8080/"
    },
    "executionInfo": {
     "elapsed": 15512,
     "status": "ok",
     "timestamp": 1623233864342,
     "user": {
      "displayName": "Abdul Ahad",
      "photoUrl": "",
      "userId": "00626872405295301930"
     },
     "user_tz": -330
    },
    "id": "yshHY_M9UvVA",
    "outputId": "cbc8a986-5aa5-49ee-b5fa-8c84030ad291"
   },
   "outputs": [
    {
     "name": "stdout",
     "output_type": "stream",
     "text": [
      "Test Loss: 0.343 | Test Acc: 85.83%\n"
     ]
    }
   ],
   "source": [
    "model.load_state_dict(torch.load('tut2-model.pt'))\n",
    "\n",
    "test_loss, test_acc = evaluate(model, test_itr, criterion)\n",
    "\n",
    "print(f'Test Loss: {test_loss:.3f} | Test Acc: {test_acc*100:.2f}%')"
   ]
  },
  {
   "cell_type": "code",
   "execution_count": 27,
   "metadata": {
    "executionInfo": {
     "elapsed": 673,
     "status": "ok",
     "timestamp": 1623233864977,
     "user": {
      "displayName": "Abdul Ahad",
      "photoUrl": "",
      "userId": "00626872405295301930"
     },
     "user_tz": -330
    },
    "id": "XxOZnONkUvXM"
   },
   "outputs": [],
   "source": [
    "import spacy\n",
    "nlp = spacy.load('en_core_web_sm')\n",
    "\n",
    "def pred(model, sentence):\n",
    "    model.eval()\n",
    "    tokenized = [tok.text for tok in nlp.tokenizer(sentence)]\n",
    "    indexed = [txt.vocab.stoi[t] for t in tokenized]\n",
    "    length = [len(indexed)]\n",
    "    tensor = torch.LongTensor(indexed).to(device)\n",
    "    tensor = tensor.unsqueeze(1)\n",
    "    length_tensor = torch.LongTensor(length)\n",
    "    prediction = torch.sigmoid(model(tensor, length_tensor))\n",
    "    return prediction.item()"
   ]
  },
  {
   "cell_type": "code",
   "execution_count": 43,
   "metadata": {
    "executionInfo": {
     "elapsed": 405,
     "status": "ok",
     "timestamp": 1623234249274,
     "user": {
      "displayName": "Abdul Ahad",
      "photoUrl": "",
      "userId": "00626872405295301930"
     },
     "user_tz": -330
    },
    "id": "xqWqP_-ZSZgK"
   },
   "outputs": [],
   "source": [
    "sent=[\"positive\",\"neutral\",\"negative\"]\n",
    "def print_sent(x):\n",
    "  if (x<0.3): print(sent[0])\n",
    "  elif (x>0.3 and x<0.7): print(sent[1])\n",
    "  else: print(sent[2])"
   ]
  },
  {
   "cell_type": "code",
   "execution_count": 44,
   "metadata": {
    "colab": {
     "base_uri": "https://localhost:8080/"
    },
    "executionInfo": {
     "elapsed": 4,
     "status": "ok",
     "timestamp": 1623234249950,
     "user": {
      "displayName": "Abdul Ahad",
      "photoUrl": "",
      "userId": "00626872405295301930"
     },
     "user_tz": -330
    },
    "id": "Cnunsr_KUvY_",
    "outputId": "960fa77d-6f09-4f4e-8ab5-f98e6890f042"
   },
   "outputs": [
    {
     "name": "stdout",
     "output_type": "stream",
     "text": [
      "neutral\n"
     ]
    }
   ],
   "source": [
    "print_sent(pred(model, \"This film was average\"))\n"
   ]
  },
  {
   "cell_type": "code",
   "execution_count": 46,
   "metadata": {
    "colab": {
     "base_uri": "https://localhost:8080/"
    },
    "executionInfo": {
     "elapsed": 576,
     "status": "ok",
     "timestamp": 1623234275207,
     "user": {
      "displayName": "Abdul Ahad",
      "photoUrl": "",
      "userId": "00626872405295301930"
     },
     "user_tz": -330
    },
    "id": "U9t-ICIFUvcK",
    "outputId": "e88fec86-5396-4629-bbbe-48691e8d1a2b"
   },
   "outputs": [
    {
     "name": "stdout",
     "output_type": "stream",
     "text": [
      "negative\n"
     ]
    }
   ],
   "source": [
    "print_sent(pred(model, \"This film is horrible\"))"
   ]
  },
  {
   "cell_type": "code",
   "execution_count": 47,
   "metadata": {
    "colab": {
     "base_uri": "https://localhost:8080/"
    },
    "executionInfo": {
     "elapsed": 401,
     "status": "ok",
     "timestamp": 1623234283022,
     "user": {
      "displayName": "Abdul Ahad",
      "photoUrl": "",
      "userId": "00626872405295301930"
     },
     "user_tz": -330
    },
    "id": "GivrFUOvUveI",
    "outputId": "abad5b58-8221-4866-d3e4-d3ccba4e2650"
   },
   "outputs": [
    {
     "name": "stdout",
     "output_type": "stream",
     "text": [
      "positive\n"
     ]
    }
   ],
   "source": [
    "print_sent(pred(model, \"This film was great\"))"
   ]
  },
  {
   "cell_type": "code",
   "execution_count": 49,
   "metadata": {
    "colab": {
     "base_uri": "https://localhost:8080/"
    },
    "executionInfo": {
     "elapsed": 439,
     "status": "ok",
     "timestamp": 1623234412834,
     "user": {
      "displayName": "Abdul Ahad",
      "photoUrl": "",
      "userId": "00626872405295301930"
     },
     "user_tz": -330
    },
    "id": "r5HEh97BUvgQ",
    "outputId": "a3ad5906-f80c-4322-b9a8-76023121009a"
   },
   "outputs": [
    {
     "name": "stdout",
     "output_type": "stream",
     "text": [
      "positive\n"
     ]
    }
   ],
   "source": [
    "print_sent(pred(model, \"This was the best movie i have seen in a while. The cast was great and the script was awesome, and the direction just blew my mind\"))"
   ]
  },
  {
   "cell_type": "code",
   "execution_count": 51,
   "metadata": {
    "colab": {
     "base_uri": "https://localhost:8080/"
    },
    "executionInfo": {
     "elapsed": 433,
     "status": "ok",
     "timestamp": 1623234543791,
     "user": {
      "displayName": "Abdul Ahad",
      "photoUrl": "",
      "userId": "00626872405295301930"
     },
     "user_tz": -330
    },
    "id": "Jtw6O1IaUvi7",
    "outputId": "9fec7015-bd88-47b3-9133-34b65c05d4ad"
   },
   "outputs": [
    {
     "name": "stdout",
     "output_type": "stream",
     "text": [
      "negative\n"
     ]
    }
   ],
   "source": [
    "print_sent(pred(model, \"the cast was dumb\"))"
   ]
  },
  {
   "cell_type": "code",
   "execution_count": 52,
   "metadata": {
    "colab": {
     "base_uri": "https://localhost:8080/"
    },
    "executionInfo": {
     "elapsed": 471,
     "status": "ok",
     "timestamp": 1623234582044,
     "user": {
      "displayName": "Abdul Ahad",
      "photoUrl": "",
      "userId": "00626872405295301930"
     },
     "user_tz": -330
    },
    "id": "16VdOfGIUvlU",
    "outputId": "9fe5b29e-2bb5-4f95-cc39-806a5e877291"
   },
   "outputs": [
    {
     "name": "stdout",
     "output_type": "stream",
     "text": [
      "negative\n"
     ]
    }
   ],
   "source": [
    "print_sent(pred(model, \"Why does this fil exist\"))"
   ]
  },
  {
   "cell_type": "code",
   "execution_count": null,
   "metadata": {
    "id": "CCvP7OC2UvnE"
   },
   "outputs": [],
   "source": []
  },
  {
   "cell_type": "code",
   "execution_count": null,
   "metadata": {
    "id": "s1jyX-fKUvp9"
   },
   "outputs": [],
   "source": []
  },
  {
   "cell_type": "code",
   "execution_count": null,
   "metadata": {
    "id": "6Vlh3esLUvsF"
   },
   "outputs": [],
   "source": []
  },
  {
   "cell_type": "code",
   "execution_count": null,
   "metadata": {
    "id": "Oq3FY3ZdUvut"
   },
   "outputs": [],
   "source": []
  },
  {
   "cell_type": "code",
   "execution_count": null,
   "metadata": {
    "id": "u-nRtY31UvxN"
   },
   "outputs": [],
   "source": []
  }
 ],
 "metadata": {
  "accelerator": "GPU",
  "colab": {
   "authorship_tag": "ABX9TyP+ydPhIdG6V58IjQ3qNMNj",
   "name": "Untitled8.ipynb",
   "provenance": []
  },
  "kernelspec": {
   "display_name": "Python 3 (ipykernel)",
   "language": "python",
   "name": "python3"
  },
  "language_info": {
   "codemirror_mode": {
    "name": "ipython",
    "version": 3
   },
   "file_extension": ".py",
   "mimetype": "text/x-python",
   "name": "python",
   "nbconvert_exporter": "python",
   "pygments_lexer": "ipython3",
   "version": "3.7.11"
  }
 },
 "nbformat": 4,
 "nbformat_minor": 1
}
